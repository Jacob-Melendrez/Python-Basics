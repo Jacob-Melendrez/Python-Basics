{
 "cells": [
  {
   "cell_type": "code",
   "execution_count": 1,
   "id": "ea542dea-5ec4-4cb7-9bbd-e5b8dcc7bb28",
   "metadata": {},
   "outputs": [
    {
     "data": {
      "text/plain": [
       "True"
      ]
     },
     "execution_count": 1,
     "metadata": {},
     "output_type": "execute_result"
    }
   ],
   "source": [
    "2 == 2"
   ]
  },
  {
   "cell_type": "code",
   "execution_count": 2,
   "id": "7fa25cc5-e0ef-4f21-880d-0d1759cd34ed",
   "metadata": {},
   "outputs": [
    {
     "data": {
      "text/plain": [
       "False"
      ]
     },
     "execution_count": 2,
     "metadata": {},
     "output_type": "execute_result"
    }
   ],
   "source": [
    "2 == 1 "
   ]
  },
  {
   "cell_type": "code",
   "execution_count": 3,
   "id": "67bba55f-a740-4cd6-b793-1e92d6728222",
   "metadata": {},
   "outputs": [
    {
     "data": {
      "text/plain": [
       "False"
      ]
     },
     "execution_count": 3,
     "metadata": {},
     "output_type": "execute_result"
    }
   ],
   "source": [
    "'hello'== 'bye'"
   ]
  },
  {
   "cell_type": "code",
   "execution_count": 6,
   "id": "2eb5df74-24c7-441b-b814-ee9795e49265",
   "metadata": {},
   "outputs": [
    {
     "data": {
      "text/plain": [
       "False"
      ]
     },
     "execution_count": 6,
     "metadata": {},
     "output_type": "execute_result"
    }
   ],
   "source": [
    "'Bye' =='bye'"
   ]
  },
  {
   "cell_type": "code",
   "execution_count": 7,
   "id": "d6ce8498-f5d5-45f2-88cc-b6ea0f178fc6",
   "metadata": {},
   "outputs": [
    {
     "data": {
      "text/plain": [
       "False"
      ]
     },
     "execution_count": 7,
     "metadata": {},
     "output_type": "execute_result"
    }
   ],
   "source": [
    "'2' == 2"
   ]
  },
  {
   "cell_type": "code",
   "execution_count": 8,
   "id": "e85b4883-2783-435b-affe-5744f2069d81",
   "metadata": {},
   "outputs": [
    {
     "data": {
      "text/plain": [
       "True"
      ]
     },
     "execution_count": 8,
     "metadata": {},
     "output_type": "execute_result"
    }
   ],
   "source": [
    "2.0 == 2"
   ]
  },
  {
   "cell_type": "code",
   "execution_count": 11,
   "id": "cdc8c326-b9ea-4f3d-aadb-7df25822304a",
   "metadata": {},
   "outputs": [
    {
     "data": {
      "text/plain": [
       "False"
      ]
     },
     "execution_count": 11,
     "metadata": {},
     "output_type": "execute_result"
    }
   ],
   "source": [
    "3 != 3"
   ]
  },
  {
   "cell_type": "code",
   "execution_count": 12,
   "id": "4c2b6281-8efc-45d0-8f41-43558e7d42d3",
   "metadata": {},
   "outputs": [
    {
     "data": {
      "text/plain": [
       "True"
      ]
     },
     "execution_count": 12,
     "metadata": {},
     "output_type": "execute_result"
    }
   ],
   "source": [
    "4 != 5"
   ]
  },
  {
   "cell_type": "code",
   "execution_count": 13,
   "id": "552fcdce-f592-456c-96eb-4bd19417a065",
   "metadata": {},
   "outputs": [
    {
     "data": {
      "text/plain": [
       "True"
      ]
     },
     "execution_count": 13,
     "metadata": {},
     "output_type": "execute_result"
    }
   ],
   "source": [
    "2 > 1"
   ]
  },
  {
   "cell_type": "code",
   "execution_count": 14,
   "id": "e337e526-679a-4dd8-8521-ded39fe26e4a",
   "metadata": {},
   "outputs": [
    {
     "data": {
      "text/plain": [
       "False"
      ]
     },
     "execution_count": 14,
     "metadata": {},
     "output_type": "execute_result"
    }
   ],
   "source": [
    "1 > 2"
   ]
  },
  {
   "cell_type": "code",
   "execution_count": 15,
   "id": "0f057dc0-ae84-4dc1-b708-3636e5f7aede",
   "metadata": {},
   "outputs": [
    {
     "data": {
      "text/plain": [
       "True"
      ]
     },
     "execution_count": 15,
     "metadata": {},
     "output_type": "execute_result"
    }
   ],
   "source": [
    "1 < 2 "
   ]
  },
  {
   "cell_type": "code",
   "execution_count": 16,
   "id": "310c0d11-7a06-47a1-adf1-9cf7ba72ec37",
   "metadata": {},
   "outputs": [
    {
     "data": {
      "text/plain": [
       "True"
      ]
     },
     "execution_count": 16,
     "metadata": {},
     "output_type": "execute_result"
    }
   ],
   "source": [
    "2 < 5"
   ]
  },
  {
   "cell_type": "code",
   "execution_count": 17,
   "id": "d751e32b-1dd3-4494-ab0d-2f167a99470d",
   "metadata": {},
   "outputs": [
    {
     "data": {
      "text/plain": [
       "True"
      ]
     },
     "execution_count": 17,
     "metadata": {},
     "output_type": "execute_result"
    }
   ],
   "source": [
    "2 >= 2 "
   ]
  },
  {
   "cell_type": "code",
   "execution_count": 18,
   "id": "34cdb9c0-751e-4da6-9ebe-e6944d3b6159",
   "metadata": {},
   "outputs": [
    {
     "data": {
      "text/plain": [
       "False"
      ]
     },
     "execution_count": 18,
     "metadata": {},
     "output_type": "execute_result"
    }
   ],
   "source": [
    "4 <= 1 "
   ]
  },
  {
   "cell_type": "code",
   "execution_count": null,
   "id": "8b881df4-da4b-4321-a639-864af6c9285c",
   "metadata": {},
   "outputs": [],
   "source": []
  }
 ],
 "metadata": {
  "kernelspec": {
   "display_name": "Python 3 (ipykernel)",
   "language": "python",
   "name": "python3"
  },
  "language_info": {
   "codemirror_mode": {
    "name": "ipython",
    "version": 3
   },
   "file_extension": ".py",
   "mimetype": "text/x-python",
   "name": "python",
   "nbconvert_exporter": "python",
   "pygments_lexer": "ipython3",
   "version": "3.11.7"
  }
 },
 "nbformat": 4,
 "nbformat_minor": 5
}
