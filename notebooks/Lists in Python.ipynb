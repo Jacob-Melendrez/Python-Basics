{
 "cells": [
  {
   "cell_type": "markdown",
   "id": "1942da9c-c718-4fb3-bc0a-deb9dcc7f44b",
   "metadata": {},
   "source": [
    "Lists can hold a variety of objects types. Ints, Floats, Strings etc."
   ]
  },
  {
   "cell_type": "code",
   "execution_count": 1,
   "id": "8f801439-2e23-431d-afe2-24255cb2c7d6",
   "metadata": {},
   "outputs": [],
   "source": [
    "my_list = [1,2,3,]"
   ]
  },
  {
   "cell_type": "code",
   "execution_count": 2,
   "id": "fda4c10b-a396-4070-b237-7a67761d73a5",
   "metadata": {},
   "outputs": [],
   "source": [
    "my_list = ['STRING',100,23.2]"
   ]
  },
  {
   "cell_type": "code",
   "execution_count": 3,
   "id": "742d4261-adb7-4c86-be46-6ad90bad27c9",
   "metadata": {},
   "outputs": [
    {
     "data": {
      "text/plain": [
       "3"
      ]
     },
     "execution_count": 3,
     "metadata": {},
     "output_type": "execute_result"
    }
   ],
   "source": [
    "len(my_list)"
   ]
  },
  {
   "cell_type": "code",
   "execution_count": 4,
   "id": "7c2b87d3-31fb-464d-9670-344caf83186a",
   "metadata": {},
   "outputs": [],
   "source": [
    "mylist = ['one','two','three']"
   ]
  },
  {
   "cell_type": "code",
   "execution_count": 5,
   "id": "719aa2a7-de7a-41cd-8b25-ed2afa846ceb",
   "metadata": {},
   "outputs": [
    {
     "data": {
      "text/plain": [
       "'one'"
      ]
     },
     "execution_count": 5,
     "metadata": {},
     "output_type": "execute_result"
    }
   ],
   "source": [
    "mylist[0]"
   ]
  },
  {
   "cell_type": "code",
   "execution_count": 6,
   "id": "fd184511-4c5c-43f3-a2df-73b595fdf69a",
   "metadata": {},
   "outputs": [
    {
     "data": {
      "text/plain": [
       "['two', 'three']"
      ]
     },
     "execution_count": 6,
     "metadata": {},
     "output_type": "execute_result"
    }
   ],
   "source": [
    "mylist[1:]"
   ]
  },
  {
   "cell_type": "markdown",
   "id": "eb2ea321-0751-45c1-b528-1c20ef31de1c",
   "metadata": {},
   "source": [
    "Slicing and indexing works exactly like a string. Use brackets.[]"
   ]
  },
  {
   "cell_type": "code",
   "execution_count": 7,
   "id": "c276f14e-2648-4dac-8234-f263f6838708",
   "metadata": {},
   "outputs": [
    {
     "data": {
      "text/plain": [
       "['one', 'two', 'three']"
      ]
     },
     "execution_count": 7,
     "metadata": {},
     "output_type": "execute_result"
    }
   ],
   "source": [
    "mylist"
   ]
  },
  {
   "cell_type": "code",
   "execution_count": 8,
   "id": "19ca8308-ae82-401b-8327-37d74833ae2d",
   "metadata": {},
   "outputs": [],
   "source": [
    "another_list = ['four','five']"
   ]
  },
  {
   "cell_type": "code",
   "execution_count": 9,
   "id": "c169c5a5-d985-4240-a98e-51da20a8df1b",
   "metadata": {},
   "outputs": [
    {
     "data": {
      "text/plain": [
       "['one', 'two', 'three', 'four', 'five']"
      ]
     },
     "execution_count": 9,
     "metadata": {},
     "output_type": "execute_result"
    }
   ],
   "source": [
    "mylist +another_list"
   ]
  },
  {
   "cell_type": "code",
   "execution_count": 10,
   "id": "f2f6c9a0-ebcf-486b-8ea8-3c2d5e67e1d2",
   "metadata": {},
   "outputs": [
    {
     "data": {
      "text/plain": [
       "['one', 'two', 'three']"
      ]
     },
     "execution_count": 10,
     "metadata": {},
     "output_type": "execute_result"
    }
   ],
   "source": [
    "mylist"
   ]
  },
  {
   "cell_type": "code",
   "execution_count": 11,
   "id": "1d6bd212-a8b0-462c-a957-e61428c08b82",
   "metadata": {},
   "outputs": [
    {
     "data": {
      "text/plain": [
       "['four', 'five']"
      ]
     },
     "execution_count": 11,
     "metadata": {},
     "output_type": "execute_result"
    }
   ],
   "source": [
    "another_list"
   ]
  },
  {
   "cell_type": "markdown",
   "id": "a263affa-8557-4ccb-a0b6-a4c7a50357c4",
   "metadata": {},
   "source": [
    "Concatination also works the same way as strings. Need to add a new variable to modify. "
   ]
  },
  {
   "cell_type": "code",
   "execution_count": 12,
   "id": "84977715-70ff-4a64-8048-68b74a3e7be4",
   "metadata": {},
   "outputs": [],
   "source": [
    "new_list = mylist +another_list"
   ]
  },
  {
   "cell_type": "markdown",
   "id": "256fd037-b6b2-46c5-9a02-2b3aa2b8cc19",
   "metadata": {},
   "source": [
    "You can mutate lists bu calling a specific index and changing its value like so. "
   ]
  },
  {
   "cell_type": "code",
   "execution_count": 13,
   "id": "5306bf53-e539-4aa2-9309-4b0e913ce799",
   "metadata": {},
   "outputs": [],
   "source": [
    "new_list[0] = 'ONE ALL CAPS'"
   ]
  },
  {
   "cell_type": "code",
   "execution_count": 14,
   "id": "dbe3f6d8-7d19-4d84-9a72-b6bcc207c342",
   "metadata": {},
   "outputs": [
    {
     "data": {
      "text/plain": [
       "['ONE ALL CAPS', 'two', 'three', 'four', 'five']"
      ]
     },
     "execution_count": 14,
     "metadata": {},
     "output_type": "execute_result"
    }
   ],
   "source": [
    "new_list"
   ]
  },
  {
   "cell_type": "markdown",
   "id": "62a6bcbd-29d2-494f-889a-514bc70679b4",
   "metadata": {},
   "source": [
    ".append method allows you to place an item at the very end of a list. "
   ]
  },
  {
   "cell_type": "code",
   "execution_count": 15,
   "id": "9f3cee0a-d34b-44ca-9704-6369807471dc",
   "metadata": {},
   "outputs": [],
   "source": [
    "new_list.append('six')"
   ]
  },
  {
   "cell_type": "code",
   "execution_count": 16,
   "id": "47f99e78-1998-4ae1-83dc-147b56187540",
   "metadata": {},
   "outputs": [
    {
     "data": {
      "text/plain": [
       "['ONE ALL CAPS', 'two', 'three', 'four', 'five', 'six']"
      ]
     },
     "execution_count": 16,
     "metadata": {},
     "output_type": "execute_result"
    }
   ],
   "source": [
    "new_list"
   ]
  },
  {
   "cell_type": "markdown",
   "id": "310dda0a-5655-46b1-9496-2d679f1b9ab2",
   "metadata": {},
   "source": [
    "new_list.pop()"
   ]
  },
  {
   "cell_type": "code",
   "execution_count": 18,
   "id": "b7950f4e-ae71-453e-99d1-f88355ddf77c",
   "metadata": {},
   "outputs": [
    {
     "data": {
      "text/plain": [
       "'six'"
      ]
     },
     "execution_count": 18,
     "metadata": {},
     "output_type": "execute_result"
    }
   ],
   "source": [
    "new_list.pop()"
   ]
  },
  {
   "cell_type": "code",
   "execution_count": 19,
   "id": "57ff9861-4feb-46b6-8ce0-19e57a4c9f5e",
   "metadata": {},
   "outputs": [
    {
     "data": {
      "text/plain": [
       "['ONE ALL CAPS', 'two', 'three', 'four', 'five']"
      ]
     },
     "execution_count": 19,
     "metadata": {},
     "output_type": "execute_result"
    }
   ],
   "source": [
    "new_list"
   ]
  },
  {
   "cell_type": "markdown",
   "id": "e9d47e17-45cc-4281-a3ad-223c61776170",
   "metadata": {},
   "source": [
    ".pop method removes only the last item of the string permanently. "
   ]
  },
  {
   "cell_type": "code",
   "execution_count": 21,
   "id": "b748e949-44a2-4f49-b6d6-ef02954a0a60",
   "metadata": {},
   "outputs": [],
   "source": [
    "popped_item = new_list.pop()"
   ]
  },
  {
   "cell_type": "code",
   "execution_count": 22,
   "id": "50146352-0729-4531-9fe1-c365a28e7349",
   "metadata": {},
   "outputs": [
    {
     "data": {
      "text/plain": [
       "'five'"
      ]
     },
     "execution_count": 22,
     "metadata": {},
     "output_type": "execute_result"
    }
   ],
   "source": [
    "popped_item"
   ]
  },
  {
   "cell_type": "code",
   "execution_count": 23,
   "id": "0112cfd0-514e-4370-8b79-28aea00ca987",
   "metadata": {},
   "outputs": [
    {
     "data": {
      "text/plain": [
       "['ONE ALL CAPS', 'two', 'three', 'four']"
      ]
     },
     "execution_count": 23,
     "metadata": {},
     "output_type": "execute_result"
    }
   ],
   "source": [
    "new_list"
   ]
  },
  {
   "cell_type": "code",
   "execution_count": 24,
   "id": "d4514b61-ba91-45f8-a8dc-87f4bb420ce6",
   "metadata": {},
   "outputs": [
    {
     "data": {
      "text/plain": [
       "'ONE ALL CAPS'"
      ]
     },
     "execution_count": 24,
     "metadata": {},
     "output_type": "execute_result"
    }
   ],
   "source": [
    "new_list.pop(0)"
   ]
  },
  {
   "cell_type": "code",
   "execution_count": 25,
   "id": "b1810466-0c97-4d2e-97ef-a1f547b1bca0",
   "metadata": {},
   "outputs": [
    {
     "data": {
      "text/plain": [
       "['two', 'three', 'four']"
      ]
     },
     "execution_count": 25,
     "metadata": {},
     "output_type": "execute_result"
    }
   ],
   "source": [
    "new_list"
   ]
  },
  {
   "cell_type": "code",
   "execution_count": 26,
   "id": "56643c52-7034-4463-87b5-6b9339078fa3",
   "metadata": {},
   "outputs": [],
   "source": [
    "new_list = ['a','e','x','b','c']\n",
    "num_list = [4,1,8,3]"
   ]
  },
  {
   "cell_type": "code",
   "execution_count": 27,
   "id": "b15b8a74-6074-4e93-8264-e70e7cf91760",
   "metadata": {},
   "outputs": [],
   "source": [
    "new_list.sort()"
   ]
  },
  {
   "cell_type": "code",
   "execution_count": 28,
   "id": "99228e2e-1db7-4907-88cc-c3f18193b60d",
   "metadata": {},
   "outputs": [
    {
     "data": {
      "text/plain": [
       "['a', 'b', 'c', 'e', 'x']"
      ]
     },
     "execution_count": 28,
     "metadata": {},
     "output_type": "execute_result"
    }
   ],
   "source": [
    "new_list"
   ]
  },
  {
   "cell_type": "code",
   "execution_count": 29,
   "id": "658e12ba-a0f1-4624-b764-6fbc9e3e89aa",
   "metadata": {},
   "outputs": [
    {
     "data": {
      "text/plain": [
       "[4, 1, 8, 3]"
      ]
     },
     "execution_count": 29,
     "metadata": {},
     "output_type": "execute_result"
    }
   ],
   "source": [
    "num_list"
   ]
  },
  {
   "cell_type": "code",
   "execution_count": 30,
   "id": "f0839caf-2fe4-4550-ad49-e172ced9aef2",
   "metadata": {},
   "outputs": [],
   "source": [
    "num_list.sort()"
   ]
  },
  {
   "cell_type": "code",
   "execution_count": null,
   "id": "c3e08ca3-4040-406f-83b1-ae8cf49aa131",
   "metadata": {},
   "outputs": [],
   "source": [
    "num_list"
   ]
  }
 ],
 "metadata": {
  "kernelspec": {
   "display_name": "Python 3 (ipykernel)",
   "language": "python",
   "name": "python3"
  },
  "language_info": {
   "codemirror_mode": {
    "name": "ipython",
    "version": 3
   },
   "file_extension": ".py",
   "mimetype": "text/x-python",
   "name": "python",
   "nbconvert_exporter": "python",
   "pygments_lexer": "ipython3",
   "version": "3.11.7"
  }
 },
 "nbformat": 4,
 "nbformat_minor": 5
}
