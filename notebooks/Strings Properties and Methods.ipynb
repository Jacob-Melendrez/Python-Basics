{
 "cells": [
  {
   "cell_type": "code",
   "execution_count": 2,
   "id": "21ff86e4-b214-4d2b-b23a-a76555d97d7b",
   "metadata": {},
   "outputs": [],
   "source": [
    "name = \"Sam\""
   ]
  },
  {
   "cell_type": "markdown",
   "id": "f8fe364b-71fe-4747-84ae-b817df35040e",
   "metadata": {},
   "source": [
    "To do concatination (Break up a string, add to it or modify it.) you must create a new variable to modify the string.THe new variable in this case in last_letters."
   ]
  },
  {
   "cell_type": "code",
   "execution_count": 4,
   "id": "60d54229-b840-4f51-8381-5f49f5440f38",
   "metadata": {},
   "outputs": [],
   "source": [
    "last_letters =name[1:]"
   ]
  },
  {
   "cell_type": "code",
   "execution_count": 5,
   "id": "a64ad0ae-47e8-4563-b7c1-2403ea602d69",
   "metadata": {},
   "outputs": [
    {
     "data": {
      "text/plain": [
       "'Pam'"
      ]
     },
     "execution_count": 5,
     "metadata": {},
     "output_type": "execute_result"
    }
   ],
   "source": [
    "'P'+last_letters"
   ]
  },
  {
   "cell_type": "code",
   "execution_count": 6,
   "id": "48eaac4f-aa9b-41c0-8670-f2531cc4b95d",
   "metadata": {},
   "outputs": [],
   "source": [
    "x = 'Hello world'"
   ]
  },
  {
   "cell_type": "code",
   "execution_count": 7,
   "id": "9f362f67-cede-454a-8b67-959dbd53a5d2",
   "metadata": {},
   "outputs": [
    {
     "data": {
      "text/plain": [
       "'Hello world it is beautiful outside!'"
      ]
     },
     "execution_count": 7,
     "metadata": {},
     "output_type": "execute_result"
    }
   ],
   "source": [
    "x + \" it is beautiful outside!\""
   ]
  },
  {
   "cell_type": "code",
   "execution_count": 8,
   "id": "7716c48c-3fa9-4b06-acd9-22fcc920b3eb",
   "metadata": {},
   "outputs": [],
   "source": [
    "x = x + \" it is beautiful outside!\""
   ]
  },
  {
   "cell_type": "code",
   "execution_count": 9,
   "id": "7d7af12a-3c2c-4cba-822e-e54fe519b941",
   "metadata": {},
   "outputs": [
    {
     "data": {
      "text/plain": [
       "'Hello world it is beautiful outside!'"
      ]
     },
     "execution_count": 9,
     "metadata": {},
     "output_type": "execute_result"
    }
   ],
   "source": [
    "x"
   ]
  },
  {
   "cell_type": "code",
   "execution_count": 10,
   "id": "d59fb06b-a378-4139-a74b-7f0fe1685f62",
   "metadata": {},
   "outputs": [],
   "source": [
    "letter = 'z'"
   ]
  },
  {
   "cell_type": "code",
   "execution_count": 11,
   "id": "3d01a338-b32f-47c4-a87c-d400f5d876eb",
   "metadata": {},
   "outputs": [
    {
     "data": {
      "text/plain": [
       "'zzzzzzzzzz'"
      ]
     },
     "execution_count": 11,
     "metadata": {},
     "output_type": "execute_result"
    }
   ],
   "source": [
    "letter * 10"
   ]
  },
  {
   "cell_type": "code",
   "execution_count": 12,
   "id": "17fcaae1-7ac3-493b-9962-03fdb86d3f1a",
   "metadata": {},
   "outputs": [
    {
     "data": {
      "text/plain": [
       "6"
      ]
     },
     "execution_count": 12,
     "metadata": {},
     "output_type": "execute_result"
    }
   ],
   "source": [
    "2 + 4"
   ]
  },
  {
   "cell_type": "code",
   "execution_count": 13,
   "id": "cf8c32e3-3621-42aa-80ca-cd3130ab3cbf",
   "metadata": {},
   "outputs": [
    {
     "data": {
      "text/plain": [
       "'23'"
      ]
     },
     "execution_count": 13,
     "metadata": {},
     "output_type": "execute_result"
    }
   ],
   "source": [
    "'2' + '3'"
   ]
  },
  {
   "cell_type": "code",
   "execution_count": null,
   "id": "14ed77c4-04d8-4c93-b7e1-3b583f3b7541",
   "metadata": {},
   "outputs": [],
   "source": []
  }
 ],
 "metadata": {
  "kernelspec": {
   "display_name": "Python 3 (ipykernel)",
   "language": "python",
   "name": "python3"
  },
  "language_info": {
   "codemirror_mode": {
    "name": "ipython",
    "version": 3
   },
   "file_extension": ".py",
   "mimetype": "text/x-python",
   "name": "python",
   "nbconvert_exporter": "python",
   "pygments_lexer": "ipython3",
   "version": "3.11.7"
  }
 },
 "nbformat": 4,
 "nbformat_minor": 5
}
