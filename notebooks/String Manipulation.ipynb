{
 "cells": [
  {
   "cell_type": "code",
   "execution_count": 1,
   "id": "d06377d9-cacd-4bc4-92cc-e056d7ce8266",
   "metadata": {},
   "outputs": [
    {
     "data": {
      "text/plain": [
       "'hello'"
      ]
     },
     "execution_count": 1,
     "metadata": {},
     "output_type": "execute_result"
    }
   ],
   "source": [
    "'hello'"
   ]
  },
  {
   "cell_type": "code",
   "execution_count": 2,
   "id": "ff69ca24-e2f4-4f2a-af71-782dbb0ce509",
   "metadata": {},
   "outputs": [
    {
     "data": {
      "text/plain": [
       "'world'"
      ]
     },
     "execution_count": 2,
     "metadata": {},
     "output_type": "execute_result"
    }
   ],
   "source": [
    "\"world\""
   ]
  },
  {
   "cell_type": "code",
   "execution_count": 3,
   "id": "a8352669-59fa-4537-8ec6-7f8f21419f2a",
   "metadata": {},
   "outputs": [
    {
     "data": {
      "text/plain": [
       "'this is also a string'"
      ]
     },
     "execution_count": 3,
     "metadata": {},
     "output_type": "execute_result"
    }
   ],
   "source": [
    "'this is also a string'"
   ]
  },
  {
   "cell_type": "markdown",
   "id": "e03519bd-41ce-4883-99b0-50b51c49c809",
   "metadata": {},
   "source": [
    "Spaces also count as characters when you index."
   ]
  },
  {
   "cell_type": "code",
   "execution_count": 4,
   "id": "be32997b-e5b4-4bf3-a3dd-5263ddd81afd",
   "metadata": {},
   "outputs": [
    {
     "data": {
      "text/plain": [
       "\" I'm going on a run. \""
      ]
     },
     "execution_count": 4,
     "metadata": {},
     "output_type": "execute_result"
    }
   ],
   "source": [
    "\" I'm going on a run. \""
   ]
  },
  {
   "cell_type": "code",
   "execution_count": 5,
   "id": "fc006305-5a26-41be-a22f-077b2deb34da",
   "metadata": {},
   "outputs": [
    {
     "name": "stdout",
     "output_type": "stream",
     "text": [
      "hello\n"
     ]
    }
   ],
   "source": [
    "print (\"hello\")"
   ]
  },
  {
   "cell_type": "code",
   "execution_count": null,
   "id": "60e7647b-12a4-495d-b413-7d0226681f5a",
   "metadata": {},
   "outputs": [],
   "source": [
    "\"hello world one\"\n",
    "\"hello world two\""
   ]
  },
  {
   "cell_type": "markdown",
   "id": "7bdaf09b-fb51-4501-bc88-5d179a0821af",
   "metadata": {},
   "source": [
    "Without print command only the second string outputs so you need a print command to output both. "
   ]
  },
  {
   "cell_type": "code",
   "execution_count": 7,
   "id": "707e3283-5998-4a97-b165-79a9669f3d61",
   "metadata": {},
   "outputs": [
    {
     "name": "stdout",
     "output_type": "stream",
     "text": [
      "hello world one!\n",
      "hello world two!\n"
     ]
    }
   ],
   "source": [
    "print(\"hello world one!\")\n",
    "print(\"hello world two!\")"
   ]
  },
  {
   "cell_type": "markdown",
   "id": "32a01e97-34d0-42d7-bc67-a85b52a51a58",
   "metadata": {},
   "source": [
    "Escape sequencing allows you to output the characters on another line of code. Uses \\n and. To make a tab in a string \\t works. "
   ]
  },
  {
   "cell_type": "code",
   "execution_count": 8,
   "id": "9badc3a6-2991-455e-92bc-3d29156c951f",
   "metadata": {},
   "outputs": [
    {
     "name": "stdout",
     "output_type": "stream",
     "text": [
      "hello \n",
      " world\n"
     ]
    }
   ],
   "source": [
    "print('hello \\n world')"
   ]
  },
  {
   "cell_type": "code",
   "execution_count": 9,
   "id": "7f668f72-dca6-4bf6-827d-7ec4e999b3b1",
   "metadata": {},
   "outputs": [
    {
     "name": "stdout",
     "output_type": "stream",
     "text": [
      "hello \t world\n"
     ]
    }
   ],
   "source": [
    "print(\"hello \\t world\")"
   ]
  },
  {
   "cell_type": "code",
   "execution_count": 10,
   "id": "239c4804-1955-4148-a11b-e0dfc65160e0",
   "metadata": {},
   "outputs": [
    {
     "data": {
      "text/plain": [
       "5"
      ]
     },
     "execution_count": 10,
     "metadata": {},
     "output_type": "execute_result"
    }
   ],
   "source": [
    "len('hello')"
   ]
  },
  {
   "cell_type": "code",
   "execution_count": 11,
   "id": "2bc71d51-1526-4199-aa1f-e8455f799f70",
   "metadata": {},
   "outputs": [
    {
     "data": {
      "text/plain": [
       "4"
      ]
     },
     "execution_count": 11,
     "metadata": {},
     "output_type": "execute_result"
    }
   ],
   "source": [
    "len('I am')"
   ]
  },
  {
   "cell_type": "markdown",
   "id": "4b918a76-06a1-4e4e-a226-46f2b8efc4a0",
   "metadata": {},
   "source": [
    "Practicing string indexing and slicing."
   ]
  },
  {
   "cell_type": "code",
   "execution_count": 12,
   "id": "36ebf854-c2b4-413e-8b7c-cc9d0af9d27d",
   "metadata": {},
   "outputs": [],
   "source": [
    "my_string = \"Hello world \""
   ]
  },
  {
   "cell_type": "code",
   "execution_count": 13,
   "id": "19833ea9-4305-422b-91e6-d9eaaa4b0cae",
   "metadata": {},
   "outputs": [
    {
     "data": {
      "text/plain": [
       "'Hello world '"
      ]
     },
     "execution_count": 13,
     "metadata": {},
     "output_type": "execute_result"
    }
   ],
   "source": [
    "my_string"
   ]
  },
  {
   "cell_type": "code",
   "execution_count": 14,
   "id": "7cb743d2-853e-452c-8a0f-9af4f9e95e69",
   "metadata": {},
   "outputs": [
    {
     "data": {
      "text/plain": [
       "'H'"
      ]
     },
     "execution_count": 14,
     "metadata": {},
     "output_type": "execute_result"
    }
   ],
   "source": [
    "my_string[0]"
   ]
  },
  {
   "cell_type": "code",
   "execution_count": 15,
   "id": "dbf0c362-28f1-455d-83ce-c0d4659b6e80",
   "metadata": {},
   "outputs": [
    {
     "data": {
      "text/plain": [
       "'r'"
      ]
     },
     "execution_count": 15,
     "metadata": {},
     "output_type": "execute_result"
    }
   ],
   "source": [
    "my_string[8]"
   ]
  },
  {
   "cell_type": "markdown",
   "id": "27e85db3-8a12-47a6-82cc-c516265bdb0e",
   "metadata": {},
   "source": [
    "Reverse indexing."
   ]
  },
  {
   "cell_type": "code",
   "execution_count": 16,
   "id": "6836990f-0dbf-4cd7-852c-05e5e69d0ae7",
   "metadata": {},
   "outputs": [
    {
     "data": {
      "text/plain": [
       "'d'"
      ]
     },
     "execution_count": 16,
     "metadata": {},
     "output_type": "execute_result"
    }
   ],
   "source": [
    "my_string[-2]"
   ]
  },
  {
   "cell_type": "code",
   "execution_count": 17,
   "id": "7a33d4fd-2cab-4350-aa5c-d7bb3394d0e0",
   "metadata": {},
   "outputs": [
    {
     "data": {
      "text/plain": [
       "'r'"
      ]
     },
     "execution_count": 17,
     "metadata": {},
     "output_type": "execute_result"
    }
   ],
   "source": [
    "my_string[-4]"
   ]
  },
  {
   "cell_type": "code",
   "execution_count": 18,
   "id": "dbf41bb7-8909-4bfb-9a9f-7a2d2bb63ab7",
   "metadata": {},
   "outputs": [
    {
     "data": {
      "text/plain": [
       "'Hello world '"
      ]
     },
     "execution_count": 18,
     "metadata": {},
     "output_type": "execute_result"
    }
   ],
   "source": [
    "my_string"
   ]
  },
  {
   "cell_type": "code",
   "execution_count": 19,
   "id": "3325eeb0-683b-4cfa-b7c7-60d71e43ead9",
   "metadata": {},
   "outputs": [],
   "source": [
    "my_string = 'abcdefghijk'"
   ]
  },
  {
   "cell_type": "code",
   "execution_count": 20,
   "id": "3c67f1bf-d6a2-442f-be49-97593ab1ef0c",
   "metadata": {},
   "outputs": [
    {
     "data": {
      "text/plain": [
       "'abcdefghijk'"
      ]
     },
     "execution_count": 20,
     "metadata": {},
     "output_type": "execute_result"
    }
   ],
   "source": [
    "my_string"
   ]
  },
  {
   "cell_type": "code",
   "execution_count": 21,
   "id": "6cbb748b-a51b-447e-9735-92e76ab26fe1",
   "metadata": {},
   "outputs": [
    {
     "data": {
      "text/plain": [
       "'c'"
      ]
     },
     "execution_count": 21,
     "metadata": {},
     "output_type": "execute_result"
    }
   ],
   "source": [
    "my_string[2]"
   ]
  },
  {
   "cell_type": "code",
   "execution_count": 22,
   "id": "fd9c0078-5c4a-476b-89dd-6540f551f089",
   "metadata": {},
   "outputs": [
    {
     "data": {
      "text/plain": [
       "'cdefghijk'"
      ]
     },
     "execution_count": 22,
     "metadata": {},
     "output_type": "execute_result"
    }
   ],
   "source": [
    "my_string[2:]"
   ]
  },
  {
   "cell_type": "code",
   "execution_count": 23,
   "id": "faa9f929-da9a-4123-bea2-bc951fc01f8b",
   "metadata": {},
   "outputs": [
    {
     "data": {
      "text/plain": [
       "'abc'"
      ]
     },
     "execution_count": 23,
     "metadata": {},
     "output_type": "execute_result"
    }
   ],
   "source": [
    "my_string[:3]"
   ]
  },
  {
   "cell_type": "markdown",
   "id": "a7be4652-fd3e-4075-a8ee-4c38b93efbc6",
   "metadata": {},
   "source": [
    "Note that the stop index means up to not including the index. SO in this case :3 d is not included in output. "
   ]
  },
  {
   "cell_type": "code",
   "execution_count": 24,
   "id": "e07be4cc-2bad-4977-ae39-74bb78867170",
   "metadata": {},
   "outputs": [
    {
     "data": {
      "text/plain": [
       "'def'"
      ]
     },
     "execution_count": 24,
     "metadata": {},
     "output_type": "execute_result"
    }
   ],
   "source": [
    "my_string[3:6]"
   ]
  },
  {
   "cell_type": "code",
   "execution_count": 25,
   "id": "69877480-e1f0-4edc-95b4-91ab27b73e5d",
   "metadata": {},
   "outputs": [
    {
     "data": {
      "text/plain": [
       "'bc'"
      ]
     },
     "execution_count": 25,
     "metadata": {},
     "output_type": "execute_result"
    }
   ],
   "source": [
    "my_string[1:3]"
   ]
  },
  {
   "cell_type": "markdown",
   "id": "e2f9e90f-22d3-48f9-b364-31a60ca2cb83",
   "metadata": {},
   "source": [
    "This notation changes the stepsize the output reads as. "
   ]
  },
  {
   "cell_type": "code",
   "execution_count": 26,
   "id": "065c9384-43cf-40ad-8b80-d6b743023ebd",
   "metadata": {},
   "outputs": [
    {
     "data": {
      "text/plain": [
       "'acegik'"
      ]
     },
     "execution_count": 26,
     "metadata": {},
     "output_type": "execute_result"
    }
   ],
   "source": [
    "my_string[::2]"
   ]
  },
  {
   "cell_type": "code",
   "execution_count": 27,
   "id": "8d0532e1-a53c-4dce-95fa-dea2af9b764f",
   "metadata": {},
   "outputs": [
    {
     "data": {
      "text/plain": [
       "'ceg'"
      ]
     },
     "execution_count": 27,
     "metadata": {},
     "output_type": "execute_result"
    }
   ],
   "source": [
    "my_string[2:7:2]"
   ]
  },
  {
   "cell_type": "code",
   "execution_count": 28,
   "id": "82b8a641-0430-480e-b5ac-b3ae4b0a948c",
   "metadata": {},
   "outputs": [
    {
     "data": {
      "text/plain": [
       "'kjihgfedcba'"
      ]
     },
     "execution_count": 28,
     "metadata": {},
     "output_type": "execute_result"
    }
   ],
   "source": [
    "my_string[::-1]"
   ]
  },
  {
   "cell_type": "code",
   "execution_count": null,
   "id": "91574202-7c01-4c1d-b7a8-92b1fabdbd44",
   "metadata": {},
   "outputs": [],
   "source": []
  }
 ],
 "metadata": {
  "kernelspec": {
   "display_name": "Python 3 (ipykernel)",
   "language": "python",
   "name": "python3"
  },
  "language_info": {
   "codemirror_mode": {
    "name": "ipython",
    "version": 3
   },
   "file_extension": ".py",
   "mimetype": "text/x-python",
   "name": "python",
   "nbconvert_exporter": "python",
   "pygments_lexer": "ipython3",
   "version": "3.11.7"
  }
 },
 "nbformat": 4,
 "nbformat_minor": 5
}
